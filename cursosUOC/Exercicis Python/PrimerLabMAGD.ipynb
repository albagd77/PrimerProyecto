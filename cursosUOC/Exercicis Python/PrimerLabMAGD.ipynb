{
 "cells": [
  {
   "cell_type": "markdown",
   "id": "2ca12515-3579-4b38-9ed6-276b2df580ab",
   "metadata": {},
   "source": [
    "## PRIMER LABORATORIO ##\n",
    "# Desafío 1 #"
   ]
  },
  {
   "cell_type": "code",
   "execution_count": 23,
   "id": "c42094ae-2985-4819-8aa5-bef6024208c4",
   "metadata": {},
   "outputs": [],
   "source": [
    "tup=tuple('I')"
   ]
  },
  {
   "cell_type": "code",
   "execution_count": 24,
   "id": "22662d31-dd01-46e2-ae45-3f0491f03347",
   "metadata": {},
   "outputs": [
    {
     "name": "stdout",
     "output_type": "stream",
     "text": [
      "<class 'tuple'>\n"
     ]
    }
   ],
   "source": [
    "print (type(tup))"
   ]
  },
  {
   "cell_type": "markdown",
   "id": "3c5ce29e-3f6b-4ca9-90bc-9e9e0148edab",
   "metadata": {},
   "source": [
    "Respuesta:\n",
    "Las tuplas son elementos inmutables en Python y por lo tanto una vez creada la tupla no le puedo agregar nuevos elementos. \n",
    "Lo que podría hacer es crear una nueva tupla que contenga la primera y lo que quiera añadir. \n",
    "Veamos."
   ]
  },
  {
   "cell_type": "code",
   "execution_count": 25,
   "id": "79903e9f-6dc0-4b7d-9f55-6e2d60378c21",
   "metadata": {},
   "outputs": [
    {
     "name": "stdout",
     "output_type": "stream",
     "text": [
      "('I', 'r', 'o', 'n', 'h', 'a', 'c', 'k')\n"
     ]
    }
   ],
   "source": [
    "tup2= tup + ('r','o','n','h','a','c','k')\n",
    "print (tup2)"
   ]
  },
  {
   "cell_type": "markdown",
   "id": "3e1cde9a-3721-4f17-8f1b-35cfacfcc60c",
   "metadata": {},
   "source": [
    "Respuesta:\n",
    "No se puede reasignar elementos a una tupla por lo mismo que antes. Podemos hacer lo siguiente."
   ]
  },
  {
   "cell_type": "code",
   "execution_count": 26,
   "id": "85250253-5f8c-4c1a-9bcf-0b4984699ed8",
   "metadata": {},
   "outputs": [
    {
     "name": "stdout",
     "output_type": "stream",
     "text": [
      "('I', 'r', 'o', 'n', 'h', 'a', 'c', 'k')\n"
     ]
    }
   ],
   "source": [
    "tup=tup2\n",
    "print (tup)"
   ]
  },
  {
   "cell_type": "code",
   "execution_count": 27,
   "id": "f8091c9f-feca-48e0-91c2-e97d4dc753e8",
   "metadata": {},
   "outputs": [
    {
     "name": "stdout",
     "output_type": "stream",
     "text": [
      "('I', 'r', 'o', 'n')\n",
      "('h', 'a', 'c', 'k')\n"
     ]
    }
   ],
   "source": [
    "tup1=tup[:4]\n",
    "tup2=tup[-4:]\n",
    "print (tup1)\n",
    "print (tup2)"
   ]
  },
  {
   "cell_type": "code",
   "execution_count": 28,
   "id": "b8102093-c2a2-4eac-b895-371a9a115bc1",
   "metadata": {},
   "outputs": [
    {
     "name": "stdout",
     "output_type": "stream",
     "text": [
      "('I', 'r', 'o', 'n', 'h', 'a', 'c', 'k')\n",
      "Sí, son iguales\n"
     ]
    }
   ],
   "source": [
    "tup3=tup1 + tup2\n",
    "print (tup3)\n",
    "if tup3 == tup:\n",
    "    print ('Sí, son iguales')\n",
    "else :\n",
    "    print ('Las tuplas no son iguales')"
   ]
  },
  {
   "cell_type": "code",
   "execution_count": 29,
   "id": "65deb477-51f2-4073-9b1c-b5cf73bb4d8c",
   "metadata": {},
   "outputs": [
    {
     "name": "stdout",
     "output_type": "stream",
     "text": [
      "True\n"
     ]
    }
   ],
   "source": [
    "cont1=len(tup1)\n",
    "cont2=len(tup2)\n",
    "suma12=cont1 +cont2\n",
    "print (suma12 == len(tup3))"
   ]
  },
  {
   "cell_type": "code",
   "execution_count": 30,
   "id": "331504f7-953b-4795-bd5f-995de01123d2",
   "metadata": {},
   "outputs": [
    {
     "name": "stdout",
     "output_type": "stream",
     "text": [
      "4\n"
     ]
    }
   ],
   "source": [
    "index=tup3.index('h')\n",
    "print (index)"
   ]
  },
  {
   "cell_type": "code",
   "execution_count": 31,
   "id": "a3801dde-6e9b-4c2d-8ce4-801875e504b7",
   "metadata": {},
   "outputs": [
    {
     "ename": "SyntaxError",
     "evalue": "unterminated string literal (detected at line 4) (2430045041.py, line 4)",
     "output_type": "error",
     "traceback": [
      "\u001b[0;36m  Cell \u001b[0;32mIn[31], line 4\u001b[0;36m\u001b[0m\n\u001b[0;31m    print (f'La letra {} está en la\u001b[0m\n\u001b[0m           ^\u001b[0m\n\u001b[0;31mSyntaxError\u001b[0m\u001b[0;31m:\u001b[0m unterminated string literal (detected at line 4)\n"
     ]
    },
    {
     "name": "stdout",
     "output_type": "stream",
     "text": [
      "The history saving thread hit an unexpected error (OperationalError('attempt to write a readonly database')).History will not be written to the database.\n"
     ]
    }
   ],
   "source": [
    "letters = [\"a\", \"b\", \"c\", \"d\", \"e\"]\n",
    "for i \n",
    "    if letters in tup3\n",
    "        print (f'La letra {} está en la \n",
    "    "
   ]
  },
  {
   "cell_type": "markdown",
   "id": "9b414043-9dd1-4787-92d4-cefe40bed0e8",
   "metadata": {},
   "source": [
    "## Desafío 2 ##"
   ]
  },
  {
   "cell_type": "code",
   "execution_count": 32,
   "id": "00a8b174-82bd-4dc9-9080-986907fb1bd0",
   "metadata": {},
   "outputs": [],
   "source": [
    "import random"
   ]
  },
  {
   "cell_type": "code",
   "execution_count": 42,
   "id": "d5acb571-564e-4a01-8bbe-bca0f9b8addb",
   "metadata": {},
   "outputs": [
    {
     "name": "stdout",
     "output_type": "stream",
     "text": [
      "[41, 14, 96, 98, 82, 4, 97, 92, 20, 17, 28, 89, 32, 25, 87, 68, 40, 3, 39, 1, 21, 99, 27, 33, 74, 55, 69, 53, 59, 60, 19, 30, 46, 62, 10, 36, 52, 93, 91, 7, 18, 50, 65, 13, 95, 22, 35, 81, 66, 44, 86, 2, 80, 48, 8, 34, 43, 54, 57, 51, 24, 38, 42, 85, 67, 6, 78, 75, 72, 61, 90, 47, 31, 16, 0, 12, 84, 76, 23, 49]\n"
     ]
    }
   ],
   "source": [
    "sample_list_1=random.sample(range(101),80)\n",
    "print (sample_list_1)"
   ]
  },
  {
   "cell_type": "code",
   "execution_count": 45,
   "id": "7f041d6b-aa7a-4415-a9c6-70a53ce21544",
   "metadata": {},
   "outputs": [
    {
     "name": "stdout",
     "output_type": "stream",
     "text": [
      "80\n"
     ]
    }
   ],
   "source": [
    "set1=set(sample_list_1)\n",
    "print (len(set1))"
   ]
  },
  {
   "cell_type": "markdown",
   "id": "16e676fd-33a0-47b2-8bf3-be560f228860",
   "metadata": {},
   "source": [
    "La longitud sigue siendo 80, correcto."
   ]
  },
  {
   "cell_type": "code",
   "execution_count": null,
   "id": "6535fc93-35c1-4800-b5f0-6eeb7112c7b6",
   "metadata": {},
   "outputs": [],
   "source": [
    "sample_list_2\n",
    "for i in (0,100)\n",
    "    sample_list_2=sample_list_2 \n",
    "    \n",
    "    "
   ]
  }
 ],
 "metadata": {
  "kernelspec": {
   "display_name": "Python 3 (ipykernel)",
   "language": "python",
   "name": "python3"
  },
  "language_info": {
   "codemirror_mode": {
    "name": "ipython",
    "version": 3
   },
   "file_extension": ".py",
   "mimetype": "text/x-python",
   "name": "python",
   "nbconvert_exporter": "python",
   "pygments_lexer": "ipython3",
   "version": "3.10.12"
  }
 },
 "nbformat": 4,
 "nbformat_minor": 5
}
