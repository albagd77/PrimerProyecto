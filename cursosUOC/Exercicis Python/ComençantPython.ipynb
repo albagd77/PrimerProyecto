{
 "cells": [
  {
   "cell_type": "markdown",
   "id": "5731603b-9603-489b-b543-c1601357844d",
   "metadata": {},
   "source": [
    "**negrita**"
   ]
  },
  {
   "cell_type": "code",
   "execution_count": 4,
   "id": "f25758d5-7499-4b43-864d-11eca04fa221",
   "metadata": {},
   "outputs": [],
   "source": [
    "a=3"
   ]
  },
  {
   "cell_type": "code",
   "execution_count": 8,
   "id": "9cbdad51-d2c6-4c0d-bf69-760bfe945d71",
   "metadata": {},
   "outputs": [
    {
     "name": "stdout",
     "output_type": "stream",
     "text": [
      "3\n"
     ]
    }
   ],
   "source": [
    "print (a)"
   ]
  },
  {
   "cell_type": "markdown",
   "id": "099af2a6-31ce-408e-ba9c-4b7bb930bb13",
   "metadata": {},
   "source": [
    "##A ver que grande es##"
   ]
  },
  {
   "cell_type": "code",
   "execution_count": 10,
   "id": "089300f5-a81c-4ea9-9965-aedb26486220",
   "metadata": {},
   "outputs": [],
   "source": [
    "meses=['Gener' , 'Febrer' , 'Març' , 'Abril' , 'Maig' , 'Juny' , 'Juliol' , 'Agost' , 'Setembre' , 'Octubre' , 'Novembre' , 'Desembre' ]"
   ]
  },
  {
   "cell_type": "code",
   "execution_count": 11,
   "id": "ac601a70-97da-4d11-a872-57ecb3fe2d41",
   "metadata": {},
   "outputs": [
    {
     "name": "stdout",
     "output_type": "stream",
     "text": [
      "['Gener', 'Febrer', 'Març', 'Abril', 'Maig', 'Juny', 'Juliol', 'Agost', 'Setembre', 'Octubre', 'Novembre', 'Desembre']\n"
     ]
    }
   ],
   "source": [
    "print (meses)"
   ]
  },
  {
   "cell_type": "code",
   "execution_count": 12,
   "id": "b028de6e-5f06-4dcc-8573-11126421760e",
   "metadata": {},
   "outputs": [],
   "source": [
    "meses.append('Fin de año')"
   ]
  },
  {
   "cell_type": "code",
   "execution_count": 13,
   "id": "4c0740c1-9257-436c-90b2-0da4b655479b",
   "metadata": {},
   "outputs": [
    {
     "name": "stdout",
     "output_type": "stream",
     "text": [
      "['Gener', 'Febrer', 'Març', 'Abril', 'Maig', 'Juny', 'Juliol', 'Agost', 'Setembre', 'Octubre', 'Novembre', 'Desembre', 'Fin de año']\n"
     ]
    }
   ],
   "source": [
    "print (meses)"
   ]
  },
  {
   "cell_type": "code",
   "execution_count": 15,
   "id": "6f556630-b814-40d1-8cab-0360b53ad3fa",
   "metadata": {},
   "outputs": [],
   "source": [
    "meses.remove('Fin de año')"
   ]
  },
  {
   "cell_type": "code",
   "execution_count": 16,
   "id": "2fcaa192-c468-45ef-8550-9178352b6d68",
   "metadata": {},
   "outputs": [
    {
     "name": "stdout",
     "output_type": "stream",
     "text": [
      "['Gener', 'Febrer', 'Març', 'Abril', 'Maig', 'Juny', 'Juliol', 'Agost', 'Setembre', 'Octubre', 'Novembre', 'Desembre']\n"
     ]
    }
   ],
   "source": [
    "print (meses)"
   ]
  },
  {
   "cell_type": "code",
   "execution_count": 27,
   "id": "f1fa422f-270b-4fb9-8ae2-5183efb768fb",
   "metadata": {},
   "outputs": [],
   "source": [
    "nuevalista=meses[3:6]"
   ]
  },
  {
   "cell_type": "code",
   "execution_count": 28,
   "id": "0deeaed3-9f91-4ab7-953a-400bdb9e8ed5",
   "metadata": {},
   "outputs": [
    {
     "name": "stdout",
     "output_type": "stream",
     "text": [
      "['Abril', 'Maig', 'Juny']\n"
     ]
    }
   ],
   "source": [
    "print (nuevalista)"
   ]
  },
  {
   "cell_type": "code",
   "execution_count": 29,
   "id": "35716db2-a998-426a-946b-006ed33555e2",
   "metadata": {},
   "outputs": [],
   "source": [
    "meses.sort()"
   ]
  },
  {
   "cell_type": "code",
   "execution_count": 30,
   "id": "71ecfe99-3812-45ef-97b4-4f1ee54a07da",
   "metadata": {},
   "outputs": [
    {
     "name": "stdout",
     "output_type": "stream",
     "text": [
      "['Abril', 'Agost', 'Desembre', 'Febrer', 'Gener', 'Juliol', 'Juny', 'Maig', 'Març', 'Novembre', 'Octubre', 'Setembre']\n"
     ]
    }
   ],
   "source": [
    "print (meses)"
   ]
  },
  {
   "cell_type": "code",
   "execution_count": 32,
   "id": "f24bc25a-5126-4fbe-82f2-bf8224a8e308",
   "metadata": {},
   "outputs": [],
   "source": [
    "mes_nacimiento='Setembre'\n",
    "posicion_mes=meses.index(mes_nacimiento) + 1"
   ]
  },
  {
   "cell_type": "code",
   "execution_count": 33,
   "id": "1b747732-04d4-4b85-926f-aa460fb629fe",
   "metadata": {},
   "outputs": [
    {
     "name": "stdout",
     "output_type": "stream",
     "text": [
      "12\n"
     ]
    }
   ],
   "source": [
    "print (posicion_mes)"
   ]
  },
  {
   "cell_type": "code",
   "execution_count": 34,
   "id": "7aa105e2-edab-4aef-87b9-a6242097da51",
   "metadata": {},
   "outputs": [
    {
     "data": {
      "text/plain": [
       "3"
      ]
     },
     "execution_count": 34,
     "metadata": {},
     "output_type": "execute_result"
    }
   ],
   "source": [
    "a"
   ]
  },
  {
   "cell_type": "code",
   "execution_count": 35,
   "id": "d11b7a17-ae00-4472-91ea-568e0072477b",
   "metadata": {},
   "outputs": [
    {
     "name": "stdout",
     "output_type": "stream",
     "text": [
      "Esto es lo que sea: ['Abril', 'Agost', 'Desembre', 'Febrer', 'Gener', 'Juliol', 'Juny', 'Maig', 'Març', 'Novembre', 'Octubre', 'Setembre']\n"
     ]
    }
   ],
   "source": [
    "print ('Esto es lo que sea:' , meses)"
   ]
  },
  {
   "cell_type": "code",
   "execution_count": 36,
   "id": "aae98b42-b459-4db8-a5c7-7df39c1771d4",
   "metadata": {},
   "outputs": [
    {
     "data": {
      "text/plain": [
       "'Setembre'"
      ]
     },
     "execution_count": 36,
     "metadata": {},
     "output_type": "execute_result"
    }
   ],
   "source": [
    "mes_nacimiento"
   ]
  },
  {
   "cell_type": "code",
   "execution_count": 49,
   "id": "0f6984be-efbb-41cf-a4e9-ebc4f2848902",
   "metadata": {},
   "outputs": [
    {
     "name": "stdout",
     "output_type": "stream",
     "text": [
      "['Abril', 'Agost', 'Desembre', 'Febrer', 'Gener', 'Juliol', 'Juny', 'Maig', 'Març', 'Novembre', 'Octubre', 'Setembre']8poh\n"
     ]
    }
   ],
   "source": [
    "concatenacion= str(meses) + str(8) + str('poh')\n",
    "print (concatenacion)"
   ]
  },
  {
   "cell_type": "code",
   "execution_count": 59,
   "id": "20f6fe5f-e3db-40b3-8784-d90510c3ebe0",
   "metadata": {},
   "outputs": [],
   "source": [
    "tupla=(8,5,88,84,2)"
   ]
  },
  {
   "cell_type": "code",
   "execution_count": 60,
   "id": "1c68f662-6f33-431c-9382-d9464469c72c",
   "metadata": {},
   "outputs": [
    {
     "data": {
      "text/plain": [
       "(8, 5, 88, 84, 2)"
      ]
     },
     "execution_count": 60,
     "metadata": {},
     "output_type": "execute_result"
    }
   ],
   "source": [
    "tupla"
   ]
  },
  {
   "cell_type": "code",
   "execution_count": 65,
   "id": "0038ea7a-a3f9-467a-8013-75c29c8db4c8",
   "metadata": {},
   "outputs": [
    {
     "name": "stdout",
     "output_type": "stream",
     "text": [
      "[2, 5, 8, 84, 88]\n"
     ]
    }
   ],
   "source": [
    "caca=sorted(tupla)\n",
    "print (caca)"
   ]
  },
  {
   "cell_type": "code",
   "execution_count": 73,
   "id": "c621d398-9308-41e4-919a-fb9d912dd929",
   "metadata": {},
   "outputs": [],
   "source": [
    "lista=[7, -8, 66, 0]"
   ]
  },
  {
   "cell_type": "code",
   "execution_count": 74,
   "id": "68942ad8-5699-4ee1-b315-6247a2c2a944",
   "metadata": {},
   "outputs": [
    {
     "name": "stdout",
     "output_type": "stream",
     "text": [
      "[7, -8, 66, 0]\n"
     ]
    }
   ],
   "source": [
    "print (lista)"
   ]
  },
  {
   "cell_type": "code",
   "execution_count": 76,
   "id": "7b4ea149-f2de-4359-baed-a27cc914923f",
   "metadata": {},
   "outputs": [
    {
     "name": "stdout",
     "output_type": "stream",
     "text": [
      "[-8, 0, 7, 66]\n"
     ]
    }
   ],
   "source": [
    "lista.sort()\n",
    "print (lista)"
   ]
  },
  {
   "cell_type": "code",
   "execution_count": 86,
   "id": "65921a8d-6b51-4b79-9c53-cbad61ba752b",
   "metadata": {},
   "outputs": [
    {
     "name": "stdin",
     "output_type": "stream",
     "text": [
      "¿Qué número crees que es? 7.01\n"
     ]
    },
    {
     "name": "stdout",
     "output_type": "stream",
     "text": [
      "Ooohh...prueba otra vez\n"
     ]
    }
   ],
   "source": [
    "num_secreto=7\n",
    "adivina=float(input('¿Qué número crees que es?'))\n",
    "if adivina == num_secreto :\n",
    "    print ('Olé, acertaste!')\n",
    "else :\n",
    "    print ('Ooohh...prueba otra vez')"
   ]
  },
  {
   "cell_type": "code",
   "execution_count": 1,
   "id": "67a2bcbb-062f-4725-aa93-d9aedbf5a2e7",
   "metadata": {},
   "outputs": [],
   "source": [
    "import sys"
   ]
  },
  {
   "cell_type": "code",
   "execution_count": 2,
   "id": "84a7b7eb-31dd-4169-b8cb-cd697e4f2fda",
   "metadata": {},
   "outputs": [
    {
     "name": "stdout",
     "output_type": "stream",
     "text": [
      "['/usr/lib/python310.zip', '/usr/lib/python3.10', '/usr/lib/python3.10/lib-dynload', '', '/home/albagd/.local/lib/python3.10/site-packages', '/usr/local/lib/python3.10/dist-packages', '/usr/lib/python3/dist-packages']\n"
     ]
    }
   ],
   "source": [
    "print (sys.path)"
   ]
  },
  {
   "cell_type": "code",
   "execution_count": null,
   "id": "40b87fb9-0af8-4081-8ba9-564974dfcc51",
   "metadata": {},
   "outputs": [],
   "source": []
  }
 ],
 "metadata": {
  "kernelspec": {
   "display_name": "Python 3 (ipykernel)",
   "language": "python",
   "name": "python3"
  },
  "language_info": {
   "codemirror_mode": {
    "name": "ipython",
    "version": 3
   },
   "file_extension": ".py",
   "mimetype": "text/x-python",
   "name": "python",
   "nbconvert_exporter": "python",
   "pygments_lexer": "ipython3",
   "version": "3.10.12"
  }
 },
 "nbformat": 4,
 "nbformat_minor": 5
}
