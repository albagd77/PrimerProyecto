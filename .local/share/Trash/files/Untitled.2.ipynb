{
 "cells": [
  {
   "cell_type": "markdown",
   "id": "2ca12515-3579-4b38-9ed6-276b2df580ab",
   "metadata": {},
   "source": [
    "## PRIMER LABORATORIO ##\n",
    "# Desafío 1 #"
   ]
  },
  {
   "cell_type": "code",
   "execution_count": 6,
   "id": "c42094ae-2985-4819-8aa5-bef6024208c4",
   "metadata": {},
   "outputs": [],
   "source": [
    "tup=tuple('I')"
   ]
  },
  {
   "cell_type": "code",
   "execution_count": 7,
   "id": "22662d31-dd01-46e2-ae45-3f0491f03347",
   "metadata": {},
   "outputs": [
    {
     "name": "stdout",
     "output_type": "stream",
     "text": [
      "<class 'tuple'>\n"
     ]
    }
   ],
   "source": [
    "print (type(tup))"
   ]
  },
  {
   "cell_type": "markdown",
   "id": "3c5ce29e-3f6b-4ca9-90bc-9e9e0148edab",
   "metadata": {},
   "source": [
    "Respuesta:\n",
    "Las tuplas son elementos inmutables en Python y por lo tanto una vez creada la tupla no le puedo agregar nuevos elementos. \n",
    "Lo que podría hacer es crear una nueva tupla que contenga la primera y lo que quiera añadir. \n",
    "Veamos."
   ]
  },
  {
   "cell_type": "code",
   "execution_count": 8,
   "id": "79903e9f-6dc0-4b7d-9f55-6e2d60378c21",
   "metadata": {},
   "outputs": [
    {
     "name": "stdout",
     "output_type": "stream",
     "text": [
      "('I', 'r', 'o', 'n', 'h', 'a', 'c', 'k')\n"
     ]
    }
   ],
   "source": [
    "tup2= tup + ('r','o','n','h','a','c','k')\n",
    "print (tup2)"
   ]
  },
  {
   "cell_type": "markdown",
   "id": "3e1cde9a-3721-4f17-8f1b-35cfacfcc60c",
   "metadata": {},
   "source": [
    "Respuesta:\n",
    "No se puede reasignar elementos a una tupla por lo mismo que antes."
   ]
  },
  {
   "cell_type": "code",
   "execution_count": null,
   "id": "85250253-5f8c-4c1a-9bcf-0b4984699ed8",
   "metadata": {},
   "outputs": [],
   "source": []
  }
 ],
 "metadata": {
  "kernelspec": {
   "display_name": "Python 3 (ipykernel)",
   "language": "python",
   "name": "python3"
  },
  "language_info": {
   "codemirror_mode": {
    "name": "ipython",
    "version": 3
   },
   "file_extension": ".py",
   "mimetype": "text/x-python",
   "name": "python",
   "nbconvert_exporter": "python",
   "pygments_lexer": "ipython3",
   "version": "3.10.12"
  }
 },
 "nbformat": 4,
 "nbformat_minor": 5
}
